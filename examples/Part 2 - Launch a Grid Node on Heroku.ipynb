{
 "cells": [
  {
   "cell_type": "markdown",
   "metadata": {},
   "source": [
    "# Part 2: Launch an OpenGrid Node On Heroku\n",
    "\n",
    "OpenGrid (or \"Grid\") is the platform library supporting the deployment of libraries for privacy-preserving artificial intelligence. In this tutorial, you'll learn how to deploy a grid node onto Heroku and then interact with it using PySyft.\n",
    "\n",
    "_WARNING: Grid nodes publish datasets online and are for EXPERIMENTAL use only. Deploy nodes at your own risk. Do not use OpenGrid with any data/models you wish to keep private._\n",
    "\n",
    "### Step 1: Setup an account on Heroku.\n",
    "\n",
    "Go to http://heroku.com and setup a username and password.\n",
    "\n",
    "### Step 2: Verify your Heroku Account\n",
    "\n",
    "So while this tutorial will exclusively use FREE nodes, Heroku still requires you to enter in a credit card in order to spin up Redis databases (which we'll need to do). You can do that at https://heroku.com/verify\n",
    "\n",
    "### Step 3: Install Dependencies\n",
    "\n",
    "You'll need to have the following dependencies installed:\n",
    "\n",
    "- Heroku Toolbelt: https://toolbelt.heroku.com/\n",
    "- Pip: https://www.makeuseof.com/tag/install-pip-for-python/\n",
    "- Git: https://gist.github.com/derhuerst/1b15ff4652a867391f03\n",
    "- PySyft: https://github.com/OpenMined/PySyft\n",
    "- Grid: https://github.com/OpenMined/PyGrid\n",
    "\n",
    "### Step 4: Login to Heroku\n",
    "\n",
    "Run \"heroku login\" from the command line and follow the instructions.\n",
    "\n",
    "### Step 5: Import Torch, PySyft, and Grid\n",
    "\n",
    "Now we can import the dependencies we need."
   ]
  },
  {
   "cell_type": "code",
   "execution_count": 1,
   "metadata": {},
   "outputs": [
    {
     "name": "stderr",
     "output_type": "stream",
     "text": [
      "Falling back to insecure randomness since the required custom op could not be found for the installed version of TensorFlow. Fix this by compiling custom ops. Missing file was '/home/allison/anaconda3/envs/pysyft/lib/python3.7/site-packages/tf_encrypted/operations/secure_random/secure_random_module_tf_1.15.0.so'\n"
     ]
    },
    {
     "name": "stdout",
     "output_type": "stream",
     "text": [
      "WARNING:tensorflow:From /home/allison/anaconda3/envs/pysyft/lib/python3.7/site-packages/tf_encrypted/session.py:24: The name tf.Session is deprecated. Please use tf.compat.v1.Session instead.\n",
      "\n"
     ]
    }
   ],
   "source": [
    "import syft as sy\n",
    "import torch as th\n",
    "import grid as gr\n",
    "from grid.deploy import HerokuNodeDeployment\n",
    "hook = sy.TorchHook(th)"
   ]
  },
  {
   "cell_type": "code",
   "execution_count": 2,
   "metadata": {},
   "outputs": [],
   "source": [
    "worker_id = \"allisonsnode\"\n",
    "\n",
    "environment = {\n",
    "    \"ID\": worker_id,\n",
    "    \"GRID_NETWORK_URL\": \"http://opengridnetwork.herokuapp.com\",\n",
    "    \"ADDRESS\": f\"http://{worker_id}.herokuapp.com/\"\n",
    "}\n",
    "\n",
    "node_component = HerokuNodeDeployment(worker_id, env_vars=environment, stack=\"container\", dev_user=\"allibell\", branch=\"fix_heroku_node_tutorial\")"
   ]
  },
  {
   "cell_type": "markdown",
   "metadata": {},
   "source": [
    "### Step 6: Launch and Connect to a Worker\n",
    "\n",
    "Then you can run the code below - this will run various scripts to launch a node on heroku and then connect to it. If the script errors, just follow the instructions to correct the error and re-run it."
   ]
  },
  {
   "cell_type": "code",
   "execution_count": 3,
   "metadata": {},
   "outputs": [
    {
     "name": "stdout",
     "output_type": "stream",
     "text": [
      "Step 0: Checking Dependencies\n",
      "\tChecking for git dependency...DONE!\n",
      "\tChecking for heroku --version dependency...DONE!\n",
      "\tChecking for pip dependency...DONE!\n",
      "\tChecking to see if heroku is logged in...DONE!\n",
      "\n",
      "Step 1: Making sure app name 'allisonsnode' is available\n",
      "\t['https://allisonsnode.herokuapp.com/ | https://git.heroku.com/allisonsnode.git\\n']\n",
      "\n",
      "Step 3: Cleaning up heroku/postgres checks...\n",
      "\n",
      "Step 4: cleaning up git...\n",
      "\t\n",
      "Step 5: cloning heroku app code from Github...\n",
      "\t\n",
      "Step 6: copying app code from cloned repo...\n",
      "\t\n",
      "Step 7: removing the rest of the cloned code...\n",
      "\t\n",
      "Step 8: Initializing new github (for Heroku)...\n",
      "\tInitialized empty Git repository in /home/allison/PyGrid/examples/tmp/.git/\n",
      "\t\n",
      "Step 9: Adding files to heroku github...\n",
      "\t\n",
      "Step 10: Committing files to heroku github...\n",
      "\t[master (root-commit) b22a651] init\n",
      "\t 32 files changed, 2240 insertions(+)\n",
      "\t create mode 100644 Dockerfile\n",
      "\t create mode 100644 LICENSE\n",
      "\t create mode 100644 Procfile\n",
      "\t create mode 100644 README.md\n",
      "\t create mode 100644 app/__init__.py\n",
      "\t create mode 100644 app/main/__init__.py\n",
      "\t create mode 100644 app/main/auth/__init__.py\n",
      "\t create mode 100644 app/main/auth/session_repository.py\n",
      "\t create mode 100644 app/main/auth/user_session.py\n",
      "\t create mode 100644 app/main/events/__init__.py\n",
      "\t create mode 100644 app/main/events/control_events.py\n",
      "\t create mode 100644 app/main/events/model_events.py\n",
      "\t create mode 100644 app/main/events/syft_events.py\n",
      "\t create mode 100644 app/main/persistence/__init__.py\n",
      "\t create mode 100644 app/main/persistence/model_manager.py\n",
      "\t create mode 100644 app/main/persistence/models.py\n",
      "\t create mode 100644 app/main/persistence/utils.py\n",
      "\t create mode 100644 app/main/routes.py\n",
      "\t create mode 100644 app/static/css/template.css\n",
      "\t create mode 100644 app/static/favicon.ico\n",
      "\t create mode 100644 app/static/images/background-gradient.bd2e1d32.svg\n",
      "\t create mode 100644 app/static/images/grid-white.01b839c4.svg\n",
      "\t create mode 100644 app/static/images/grid.01b839c4.svg\n",
      "\t create mode 100644 app/static/images/mine.63c4a4b6.svg\n",
      "\t create mode 100644 app/static/images/torch.logo.svg\n",
      "\t create mode 100644 app/static/js/main.js\n",
      "\t create mode 100644 app/templates/index.html\n",
      "\t create mode 100644 entrypoint.sh\n",
      "\t create mode 100644 heroku.yml\n",
      "\t create mode 100644 requirements.txt\n",
      "\t create mode 100644 runtime.txt\n",
      "\t create mode 100644 websocket_app.py\n",
      "\t\n",
      "\n",
      "Step 11: Pushing code to Heroku (this can take take a few seconds)......\n",
      "\thttps://allisonsnode.herokuapp.com/ | https://git.heroku.com/allisonsnode.git\n",
      "\t\n",
      "Step 12: Creating Postgres database... (this can take a few seconds)...\n",
      "\tDatabase has been created and is available\n",
      "\t ! This database is empty. If upgrading, you can transfer\n",
      "\t ! data from another database with pg:copy\n",
      "\tCreated postgresql-opaque-29398 as DATABASE_URL\n",
      "\tUse heroku addons:docs heroku-postgresql to view documentation\n",
      "\t\n",
      "Setting environment variable: ...\n",
      "\tID: allisonsnode\n",
      "\t\n",
      "Setting environment variable: ...\n",
      "\tGRID_NETWORK_URL: http://opengridnetwork.herokuapp.com\n",
      "\t\n",
      "Setting environment variable: ...\n",
      "\tADDRESS: http://allisonsnode.herokuapp.com/\n",
      "\t\n",
      "Setting stack to container...\n",
      "\tStack set. Next release on allisonsnode will use container.\n",
      "\tRun git push heroku master to create a new release on allisonsnode.\n",
      "\t\n",
      "Step 13: Pushing code to Heroku (this can take take a few minutes - if you're running this in a Jupyter Notebook you can watch progress in the notebook server terminal)......\n",
      "\t\n",
      "Step 14: Cleaning up!...\n",
      "\t\n",
      "SUCCESS: You can now connect to your app at https://allisonsnode.herokuapp.com\n"
     ]
    },
    {
     "data": {
      "text/plain": [
       "'https://allisonsnode.herokuapp.com'"
      ]
     },
     "execution_count": 3,
     "metadata": {},
     "output_type": "execute_result"
    }
   ],
   "source": [
    "node_component.deploy()"
   ]
  },
  {
   "cell_type": "code",
   "execution_count": 4,
   "metadata": {},
   "outputs": [],
   "source": [
    "worker = gr.WebsocketGridClient(hook, f\"ws://{worker_id}.herokuapp.com/\",id=worker_id)\n",
    "worker.connect()"
   ]
  },
  {
   "cell_type": "markdown",
   "metadata": {},
   "source": [
    "### Step 7: Use PySyft Like Normal\n",
    "\n",
    "Now you can simply use the worker you created like you would any other normal PySyft worker. For more on how PySyft works, please see the PySyft tutorials: https://github.com/OpenMined/PySyft/tree/dev/examples/tutorials"
   ]
  },
  {
   "cell_type": "code",
   "execution_count": 5,
   "metadata": {},
   "outputs": [
    {
     "data": {
      "text/plain": [
       "(Wrapper)>[PointerTensor | me:24991441299 -> allisonsnode:12685711744]"
      ]
     },
     "execution_count": 5,
     "metadata": {},
     "output_type": "execute_result"
    }
   ],
   "source": [
    "x = th.tensor([1,2,3,4]).send(worker)\n",
    "x"
   ]
  },
  {
   "cell_type": "code",
   "execution_count": 6,
   "metadata": {},
   "outputs": [
    {
     "data": {
      "text/plain": [
       "(Wrapper)>[PointerTensor | me:99783549090 -> allisonsnode:49422856673]"
      ]
     },
     "execution_count": 6,
     "metadata": {},
     "output_type": "execute_result"
    }
   ],
   "source": [
    "y = x + x\n",
    "y"
   ]
  },
  {
   "cell_type": "code",
   "execution_count": 7,
   "metadata": {},
   "outputs": [
    {
     "data": {
      "text/plain": [
       "tensor([2, 4, 6, 8])"
      ]
     },
     "execution_count": 7,
     "metadata": {},
     "output_type": "execute_result"
    }
   ],
   "source": [
    "y.get()"
   ]
  },
  {
   "cell_type": "markdown",
   "metadata": {},
   "source": [
    "### Step 8: Reconnecting to Same Node\n",
    "\n",
    "If you run the same connect command that you did before, it will just connect to the existing node instead of launching it."
   ]
  },
  {
   "cell_type": "code",
   "execution_count": 8,
   "metadata": {},
   "outputs": [
    {
     "name": "stdout",
     "output_type": "stream",
     "text": [
      "Step 0: Checking Dependencies\n",
      "\tChecking for git dependency...DONE!\n",
      "\tChecking for heroku --version dependency...DONE!\n",
      "\tChecking for pip dependency...DONE!\n",
      "\tChecking to see if heroku is logged in...DONE!\n",
      "\n",
      "Step 1: Making sure app name 'allisonsnode' is available\n",
      "\t[]\n",
      "APP EXISTS: You can already connect to your app at https://allisonsnode.herokuapp.com\n"
     ]
    }
   ],
   "source": [
    "worker.close() # Disconnect from current connection\n",
    "\n",
    "worker = gr.WebsocketGridClient(hook, address=node_component.deploy(), id=worker_id)\n",
    "worker.connect()"
   ]
  },
  {
   "cell_type": "code",
   "execution_count": 9,
   "metadata": {},
   "outputs": [
    {
     "data": {
      "text/plain": [
       "(Wrapper)>[PointerTensor | me:24996282331 -> allisonsnode:65165153764]"
      ]
     },
     "execution_count": 9,
     "metadata": {},
     "output_type": "execute_result"
    }
   ],
   "source": [
    "x = th.tensor([1,2,3,4]).send(worker)\n",
    "x"
   ]
  },
  {
   "cell_type": "markdown",
   "metadata": {},
   "source": [
    "#### Useful Tip\n",
    "\n",
    "You can set check_deps=False and it'll run a little faster"
   ]
  },
  {
   "cell_type": "code",
   "execution_count": 10,
   "metadata": {
    "lines_to_next_cell": 0
   },
   "outputs": [
    {
     "name": "stdout",
     "output_type": "stream",
     "text": [
      "\n",
      "Step 1: Making sure app name 'allisonsnode' is available\n",
      "\t[]\n",
      "APP EXISTS: You can already connect to your app at https://allisonsnode.herokuapp.com\n"
     ]
    }
   ],
   "source": [
    "worker.close() # Disconnect from current connection\n",
    "\n",
    "node_component = HerokuNodeDeployment(worker_id, env_vars=environment, check_deps=False)\n",
    "worker = gr.WebsocketGridClient(hook, address=node_component.deploy(), id=worker_id)\n",
    "worker.connect()"
   ]
  },
  {
   "cell_type": "code",
   "execution_count": null,
   "metadata": {
    "lines_to_next_cell": 2
   },
   "outputs": [],
   "source": []
  }
 ],
 "metadata": {
  "jupytext": {
   "text_representation": {
    "extension": ".py",
    "format_name": "light",
    "format_version": "1.4",
    "jupytext_version": "1.2.4"
   }
  },
  "kernelspec": {
   "display_name": "Python 3",
   "language": "python",
   "name": "python3"
  },
  "language_info": {
   "codemirror_mode": {
    "name": "ipython",
    "version": 3
   },
   "file_extension": ".py",
   "mimetype": "text/x-python",
   "name": "python",
   "nbconvert_exporter": "python",
   "pygments_lexer": "ipython3",
   "version": "3.7.4"
  }
 },
 "nbformat": 4,
 "nbformat_minor": 2
}
